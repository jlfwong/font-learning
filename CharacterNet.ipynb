{
 "cells": [
  {
   "cell_type": "code",
   "execution_count": 102,
   "metadata": {},
   "outputs": [],
   "source": [
    "import torch.nn as nn\n",
    "import torch\n",
    "import torchvision.transforms\n",
    "import os\n",
    "from PIL import Image\n",
    "from itertools import chain\n",
    "import generate "
   ]
  },
  {
   "cell_type": "code",
   "execution_count": 8,
   "metadata": {},
   "outputs": [],
   "source": [
    "IMAGE_CHANNELS = 3\n",
    "IMAGE_DIMENSION = 100"
   ]
  },
  {
   "cell_type": "code",
   "execution_count": 75,
   "metadata": {},
   "outputs": [],
   "source": [
    "class FCCharacterNet(nn.Module):\n",
    "\n",
    "    def __init__(self, h=100, w=100, image_channels=3, num_labels=10):\n",
    "        super(FCCharacterNet, self).__init__()\n",
    "        \n",
    "        self.h = h\n",
    "        self.w = w\n",
    "        self.image_channels = image_channels\n",
    "        self.num_labels = num_labels\n",
    "        \n",
    "        self.fc_inputs = image_channels * h * w\n",
    "        \n",
    "        self.fc1 = nn.Linear(in_features=self.fc_inputs, out_features=num_labels)\n",
    "        torch.nn.init.xavier_uniform_(self.fc1.weight)\n",
    "        \n",
    "        self.softmax = nn.Softmax(dim=1)\n",
    "\n",
    "    def forward(self, x):\n",
    "        \n",
    "        # X: B 3 W H\n",
    "        image_channels = x.size(1)\n",
    "        H = x.size(2)\n",
    "        W = x.size(3)\n",
    "\n",
    "        x = x.view(-1, image_channels * H * W)\n",
    "        \n",
    "        x = self.fc1(x)\n",
    "        \n",
    "        x = self.softmax(x)\n",
    "        \n",
    "        return x"
   ]
  },
  {
   "cell_type": "code",
   "execution_count": 80,
   "metadata": {},
   "outputs": [],
   "source": [
    "def load_image(path):\n",
    "    \"\"\"This function loads an image into memory when you give it\n",
    "       the path of the image\n",
    "    \"\"\"\n",
    "    img = Image.open(path)\n",
    "    img.load()\n",
    "\n",
    "    transform = torchvision.transforms.Compose([torchvision.transforms.ToTensor()])\n",
    "    \n",
    "    return transform(img)\n"
   ]
  },
  {
   "cell_type": "code",
   "execution_count": 81,
   "metadata": {},
   "outputs": [
    {
     "name": "stdout",
     "output_type": "stream",
     "text": [
      "torch.Size([3, 100, 100])\n",
      "torch.Size([1, 3, 100, 100])\n"
     ]
    }
   ],
   "source": [
    "path = '/home/chris/code/font-learning/images/Great_Vibes/52.png'\n",
    "input1 = load_image(path)\n",
    "print(input1.size())\n",
    "batch = input1.unsqueeze(0)\n",
    "print(batch.size())"
   ]
  },
  {
   "cell_type": "code",
   "execution_count": 103,
   "metadata": {},
   "outputs": [],
   "source": [
    "in_list = []\n",
    "out_list = []\n",
    "\n",
    "for font_idx, font_name in enumerate(generate.fonts):\n",
    "        \n",
    "    out_row = [1 if x == font_idx else 0 for x in range(len(generate.fonts))]\n",
    "    \n",
    "    for character in chain(range(ord(\"a\"), ord(\"z\")), range(ord(\"A\"), ord(\"Z\")), range(ord(\"0\"), ord(\"9\"))):\n",
    "        image = load_image(f\"images/{font_name}/{character}.png\")\n",
    "        in_list.append(image)\n",
    "        \n",
    "        out_list.append(torch.tensor(out_row))\n",
    "        \n",
    "inputs = torch.stack(in_list)\n",
    "outputs = torch.stack(out_list)"
   ]
  },
  {
   "cell_type": "code",
   "execution_count": 108,
   "metadata": {},
   "outputs": [],
   "source": [
    "net = FCCharacterNet()"
   ]
  },
  {
   "cell_type": "code",
   "execution_count": null,
   "metadata": {},
   "outputs": [],
   "source": []
  }
 ],
 "metadata": {
  "kernelspec": {
   "display_name": "Python 3",
   "language": "python",
   "name": "python3"
  },
  "language_info": {
   "codemirror_mode": {
    "name": "ipython",
    "version": 3
   },
   "file_extension": ".py",
   "mimetype": "text/x-python",
   "name": "python",
   "nbconvert_exporter": "python",
   "pygments_lexer": "ipython3",
   "version": "3.6.5"
  }
 },
 "nbformat": 4,
 "nbformat_minor": 2
}
