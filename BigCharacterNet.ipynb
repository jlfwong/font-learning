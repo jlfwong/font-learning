{
 "cells": [
  {
   "cell_type": "code",
   "execution_count": null,
   "metadata": {},
   "outputs": [],
   "source": [
    "class CharacterNet(nn.Module):\n",
    "\n",
    "    def __init__(self):\n",
    "        super(CharacterNet, self).__init__()\n",
    "        \n",
    "        self.relu = nn.ReLU()\n",
    "        self.maxpool = nn.MaxPool2d(kernel_size=2)\n",
    "        \n",
    "        self.conv1 = nn.Conv2d(in_channels=3, out_channels=20, kernel_size=3, padding=1) # 100x100\n",
    "        # ReLU\n",
    "        #maxpool # 50x50\n",
    "        \n",
    "        self.conv2 = nn.Conv2d(in_channels=20, out_channels=64, kernel_size=5, padding=2) # 50x50\n",
    "        # ReLU\n",
    "        #maxpool # 25x25\n",
    "        \n",
    "        self.conv3 = nn.Conv2d(in_channels=64, out_channels=128, kernel_size=3, padding=1) # 25x25\n",
    "        # ReLU\n",
    "        \n",
    "        # view\n",
    "        \n",
    "        self.conv_output_dim = 128 * 25 * 25\n",
    "        \n",
    "        self.fc1 = nn.Linear(self.conv_output_dim)\n",
    "        self.bn7 = nn.BatchNorm(512)\n",
    "        self.fc2 = nn.Linear(512, 64)\n",
    "        \n",
    "        self.softmax = nn.Softmax(dim=0)\n",
    "\n",
    "    def forward(self, x):\n",
    "        x = self.conv1(x)\n",
    "        x = self.relu(x)\n",
    "        x = self.maxpool(x)\n",
    "        \n",
    "        x = self.conv2(x)\n",
    "        x = self.relu(x)\n",
    "        x = self.maxpool(x)\n",
    "\n",
    "        x = self.conv3(x)\n",
    "        x = self.relu(x)\n",
    "        x = self.maxpool(x)\n",
    "\n",
    "        x = x.view(-1, self.conv_output_dim)\n",
    "        \n",
    "        x = self.fc1(x)\n",
    "        x = self.bn7(x)\n",
    "        x = self.fc2(x)\n",
    "        x = self.fc3(x)\n",
    "        \n",
    "        x = self.softmax(x)\n",
    "        \n",
    "        return x"
   ]
  }
 ],
 "metadata": {
  "kernelspec": {
   "display_name": "Python 3",
   "language": "python",
   "name": "python3"
  },
  "language_info": {
   "codemirror_mode": {
    "name": "ipython",
    "version": 3
   },
   "file_extension": ".py",
   "mimetype": "text/x-python",
   "name": "python",
   "nbconvert_exporter": "python",
   "pygments_lexer": "ipython3",
   "version": "3.6.5"
  }
 },
 "nbformat": 4,
 "nbformat_minor": 2
}
